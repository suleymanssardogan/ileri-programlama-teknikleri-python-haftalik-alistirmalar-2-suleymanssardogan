{
 "cells": [
  {
   "cell_type": "markdown",
   "id": "e2abb239",
   "metadata": {},
   "source": [
    "# YMH220 - İleri Programlama Teknikleri\n",
    "## Python Egzersizleri\n",
    "\n",
    "### İsim: Süleyman Sardoğan\n",
    "### Öğrenci No: 220541069\n",
    "### Tarih: 08/04/2025\n"
   ]
  },
  {
   "cell_type": "markdown",
   "id": "570c2a05",
   "metadata": {},
   "source": [
    "# Soru 1\n",
    "### Verilen bir tam sayının asal sayı olup olmadığını belirleyen `asal_mi` isimli Python fonksiyonunu yazınız.\n",
    "\n",
    "### Fonksiyonunuzu test edin\n",
    "```python\n",
    "print(asal_mi(11))  # Beklenen çıktı: True\n",
    "print(asal_mi(15))  # Beklenen çıktı: False\n",
    "```"
   ]
  },
  {
   "cell_type": "code",
   "execution_count": 6,
   "id": "72806d01",
   "metadata": {},
   "outputs": [
    {
     "name": "stdout",
     "output_type": "stream",
     "text": [
      "True\n",
      "False\n"
     ]
    }
   ],
   "source": [
    "# Çözümünüzü buraya yazınız\n",
    "def asal_mi(n):\n",
    "    \"\"\"\n",
    "    Gönderilen sayının asal olup olmadığını kontrol edecektir.\n",
    "    n-->int pozitif tam sayı olmalı\n",
    "    asal ise --> True , asal değil ise False döner\n",
    "    \"\"\"\n",
    "    # Negatif kontrol\n",
    "    if n<0:\n",
    "        raise ValueError(\"Negatif Tam Sayı\")\n",
    "        \n",
    "    # Tam sayı olup olmama kontrolü\n",
    "    if not isinstance(n,int):\n",
    "        return False\n",
    "        raise ValueError(\" Sayı tam sayı olmalıdır\")\n",
    "\n",
    "    # 2'den küçük asal sayı olamaz\n",
    "    if n<2:\n",
    "        return False\n",
    "\n",
    "    # Asal olup olmadığnı kontrol ettirme(Daha optimize için n'in kareköküne kadar dönse daha  hızlı bulunur!!)\n",
    "    for i in range(2,n):\n",
    "        if n%i==0:\n",
    "            return False\n",
    "\n",
    "    return True\n",
    "\n",
    "    \n",
    "print(asal_mi(11)) \n",
    "print(asal_mi(15)) \n"
   ]
  },
  {
   "cell_type": "markdown",
   "id": "2c5e4bd9",
   "metadata": {},
   "source": [
    "# Soru 2\n",
    "### İki tam sayının en büyük ortak bölenini (EBOB) Öklid algoritması ile hesaplayan `ebob` isimli Python fonksiyonunu yazınız.\n",
    "\n",
    "### Fonksiyonunuzu test edin\n",
    "```python\n",
    "print(ebob(48, 18))  # Beklenen çıktı: 6\n",
    "print(ebob(100, 25))  # Beklenen çıktı: 25\n",
    "```"
   ]
  },
  {
   "cell_type": "code",
   "execution_count": 18,
   "id": "e4c8987e",
   "metadata": {},
   "outputs": [
    {
     "name": "stdout",
     "output_type": "stream",
     "text": [
      "6\n",
      "25\n"
     ]
    }
   ],
   "source": [
    "# Çözümünüzü buraya yazınız\n",
    "\n",
    "def ebob(a,b):\n",
    "     \"\"\"\n",
    "    Gelen iki sayının ebobunu alır\n",
    "    2 sayıda pozitif olmalıdır(int)\n",
    "    \"\"\"\n",
    "   \n",
    "\n",
    "    #Tam sayı kontrolü\n",
    "    if not isinstance(a,int) or not isinstance(b,int):\n",
    "        print(\"Hata Tam sayı değiller\")\n",
    "        return None\n",
    "        \n",
    "    #Pozitiflerini alma   \n",
    "    a = abs(a)\n",
    "    b = abs(b)\n",
    "\n",
    "    #Her iki sayıda 0 olursa ebob bulunumaz\n",
    "    if a==0 and b==0:\n",
    "        print(\"Her iki sayıda 0 olamaz \")\n",
    "    \n",
    "    min_sayi =min(a,b)\n",
    "\n",
    "    for i in range(min_sayi,0,-1):\n",
    "        if a%i==0 and b%i==0:\n",
    "            return i\n",
    "\n",
    "print(ebob(48,18))\n",
    "print(ebob(100,25))"
   ]
  },
  {
   "cell_type": "markdown",
   "id": "499fd7b4",
   "metadata": {},
   "source": [
    "# Soru 3\n",
    "### Verilen bir metindeki sesli harflerin (a, e, ı, i, o, ö, u, ü) sayısını hesaplayarak döndüren `sesli_harf_sayisi` fonksiyonunu yazınız.\n",
    "\n",
    "### Fonksiyonunuzu test edin\n",
    "```python\n",
    "print(sesli_harf_sayisi(\"programlama\"))  # Beklenen çıktı: 4\n",
    "print(sesli_harf_sayisi(\"algoritma\"))  # Beklenen çıktı: 4\n",
    "```"
   ]
  },
  {
   "cell_type": "code",
   "execution_count": 30,
   "id": "5488e486",
   "metadata": {},
   "outputs": [
    {
     "name": "stdout",
     "output_type": "stream",
     "text": [
      "4\n",
      "4\n",
      "3\n"
     ]
    }
   ],
   "source": [
    "# Çözümünüzü buraya yazınız\n",
    "\n",
    "def sesli_harf_sayisi(kelime):\n",
    "    \"\"\"\n",
    "    Kullanıcı tarafında girilen kelimenin içinde kaç adet sesli harf olduğunu buldurur\n",
    "    Kelimenin bütün harflerini küçük ve büyük yapalım ki sesli harfleri bulmak kolaylaşsın\n",
    "    \"\"\"\n",
    "\n",
    "    kelime = kelime.lower()\n",
    "    \n",
    "    #Sesli harfleri bir string olarak tanımladık.\n",
    "    sesli_harfler =\"aeıioöuü\"\n",
    "    \n",
    "    #Sesli harfler için sayaç.\n",
    "    sayac=0\n",
    "    \n",
    "    #Gelen kelimeyi teker teker gezeriz ve sesli harf var ise sayaç artar.\n",
    "    for i in kelime:\n",
    "        if i in sesli_harfler:\n",
    "            sayac+=1\n",
    "    return sayac\n",
    "    \n",
    "print(sesli_harf_sayisi(\"programlama\")) \n",
    "print(sesli_harf_sayisi(\"algoritma\"))  \n",
    "print(sesli_harf_sayisi(\"süleyman\"))"
   ]
  },
  {
   "cell_type": "markdown",
   "id": "f61da9c2",
   "metadata": {},
   "source": [
    "# Soru 4\n",
    "### İki sıralı listeyi tek bir sıralı liste olarak birleştiren ve hazır sıralama fonksiyonlarını kullanmayan `sirali_listeleri_birlestir` fonksiyonunu yazınız.\n",
    "\n",
    "### Fonksiyonunuzu test edin\n",
    "```python\n",
    "print(sirali_listeleri_birlestir([1, 3, 5], [2, 4, 6]))  # Beklenen çıktı: [1, 2, 3, 4, 5, 6]\n",
    "print(sirali_listeleri_birlestir([-3, 0, 7], [-1, 4, 10]))  # Beklenen çıktı: [-3, -1, 0, 4, 7, 10]\n",
    "```"
   ]
  },
  {
   "cell_type": "code",
   "execution_count": 28,
   "id": "284fd7c4",
   "metadata": {},
   "outputs": [
    {
     "name": "stdout",
     "output_type": "stream",
     "text": [
      "[1, 2, 3, 4, 5, 6]\n",
      "[-3, -1, 0, 4, 7, 10]\n"
     ]
    }
   ],
   "source": [
    "# Çözümünüzü buraya yazınız\n",
    "def sirali_listeleri_birlestir(liste1,liste2):\n",
    "    \"\"\"\n",
    "    İki listeyi tek bir liste olarak birleştirir.\n",
    "    2 adet liste (liste1,liste2)   \n",
    "    return liste\n",
    "    \"\"\"\n",
    "   \n",
    "    birlesmis_liste =[]\n",
    "    i=0\n",
    "    j=0\n",
    "    \n",
    "    #Karşılaştırarak birleştirm küçük,büyük kontrolü\n",
    "    while i<len(liste1) and j<len(liste2):\n",
    "        if liste1[i]<liste2[j]:\n",
    "            birlesmis_liste.append(liste1[i])\n",
    "            i=i+1\n",
    "        else:\n",
    "            birlesmis_liste.append(liste2[j])\n",
    "            j=j+1\n",
    "\n",
    "    #Kontrolden kaçan  elemanlar eklenmemiş olabilir onları da eklemeliyiz       \n",
    "    while i<len(liste1):\n",
    "        birlesmis_liste.append(liste1[i])\n",
    "        i=i+1\n",
    "    while j<len(liste2):\n",
    "        birlesmis_liste.append(liste2[j])\n",
    "        j =j+1\n",
    "        \n",
    "    return birlesmis_liste\n",
    "                               \n",
    "    \n",
    "    \n",
    "print(sirali_listeleri_birlestir([1, 3, 5], [2, 4, 6]))  \n",
    "print(sirali_listeleri_birlestir([-3, 0, 7], [-1, 4, 10])) "
   ]
  },
  {
   "cell_type": "markdown",
   "id": "4987ac27",
   "metadata": {},
   "source": [
    "# Soru 5\n",
    "### Sıralı bir listede ikili arama algoritmasını kullanarak verilen elemanın indeksini bulan (eğer eleman listede yoksa -1 dönen) `ikili_arama` fonksiyonunu yazınız.\n",
    "\n",
    "### Fonksiyonunuzu test edin\n",
    "```python\n",
    "print(ikili_arama([1, 3, 5, 7, 9, 11], 7))  # Beklenen çıktı: 3\n",
    "print(ikili_arama([2, 4, 6, 8, 10], 5))  # Beklenen çıktı: -1\n",
    "```"
   ]
  },
  {
   "cell_type": "code",
   "execution_count": 27,
   "id": "0320ee58",
   "metadata": {},
   "outputs": [
    {
     "name": "stdout",
     "output_type": "stream",
     "text": [
      "3\n",
      "-1\n"
     ]
    }
   ],
   "source": [
    "# Çözümünüzü buraya yazınız\n",
    "def ikili_arama(liste,aranan_sayi):\n",
    "    \"\"\"\n",
    "    Aranan sayiyi listeyi her dafeasında kontrollerden sonra 2 ye bölerek \n",
    "    Normal aramalara göre gerçekten hızlı bir şekilde istenilen sayıyı bulur\n",
    "    Hedef elemanın indeksini döner. Eğer eleman bulunamazsa -1 döner.\n",
    "    \n",
    "    Bu arama yapmamız için listemizin küçükten büyüğe sıralanmış olması lazımdır.\n",
    "    \n",
    "    \"\"\"\n",
    "\n",
    "    #Liste küçükten büyüğe sıralanmamış olabilir küçükten büyüğe sıralayalım\n",
    "    liste.sort()\n",
    "\n",
    "    #index 0 ve len-1\n",
    "    sol =0\n",
    "    sag =len(liste)-1\n",
    "    \n",
    "    while sol<=sag:\n",
    "        orta = (sol+sag) // 2\n",
    "\n",
    "        #Aranan sayi tam ortada ise\n",
    "        if liste[orta]==aranan_sayi:\n",
    "            return orta\n",
    "        #Aranan sayi ortadaki elemandan küçük ise\n",
    "        elif liste[orta]>aranan_sayi:\n",
    "            sag=orta-1\n",
    "        #Aranan sayı ortadaki elemandan küçük ise\n",
    "        else:\n",
    "            sol =orta+1\n",
    "\n",
    "    #Bulunmaz ise\n",
    "    return -1\n",
    "            \n",
    "\n",
    "print(ikili_arama([1, 3, 5, 7, 9, 11], 7)) \n",
    "print(ikili_arama([2, 4, 6, 8, 10], 5))  "
   ]
  },
  {
   "cell_type": "code",
   "execution_count": null,
   "id": "df7dcf6b-d49e-4d3e-b87d-a5ccd3edf226",
   "metadata": {},
   "outputs": [],
   "source": []
  }
 ],
 "metadata": {
  "kernelspec": {
   "display_name": "Python 3 (ipykernel)",
   "language": "python",
   "name": "python3"
  },
  "language_info": {
   "codemirror_mode": {
    "name": "ipython",
    "version": 3
   },
   "file_extension": ".py",
   "mimetype": "text/x-python",
   "name": "python",
   "nbconvert_exporter": "python",
   "pygments_lexer": "ipython3",
   "version": "3.12.9"
  }
 },
 "nbformat": 4,
 "nbformat_minor": 5
}
